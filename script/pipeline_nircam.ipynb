{
 "cells": [
  {
   "cell_type": "markdown",
   "id": "ec9f5c6b",
   "metadata": {},
   "source": [
    "<a id='top'></a>\n",
    "# PDRs4All: Reducing NIRCam Imaging Data\n",
    "---\n",
    "**Author**: Amélie Canin (amelie.canin@irap.omp.eu) \n",
    "\n",
    "**Latest Update**: 15 juin 2022\n",
    "\n",
    "This notebook follows JWEbbinar example from STScI's available on the [Git](https://github.com/spacetelescope/jwebbinar_prep) and on the [website](https://www.stsci.edu/jwst/science-execution/jwebbinars) to reduce NIRCam imaging data using the STScI data reduction pipeline."
   ]
  },
  {
   "cell_type": "markdown",
   "id": "98226de3",
   "metadata": {},
   "source": [
    "<div class=\"alert alert-block alert-info\">\n",
    "    <h3><u><b>Notebook Goals</b></u></h3>\n",
    "    <ul>Take a PDRs4All NIRCam imaging simulated with MIRAGE through all three stages of the JWST Calibration Pipeline. We will:</ul>\n",
    "    <ul>    \n",
    "      <li>call the pipeline on a sigle image; </li>\n",
    "      <li>reduce image for a short and a long wavelenght filter. </li> \n",
    "    </ul>\n",
    "</div>"
   ]
  },
  {
   "cell_type": "markdown",
   "id": "d65031f5",
   "metadata": {},
   "source": [
    "## Introduction"
   ]
  },
  {
   "cell_type": "markdown",
   "id": "dd32b1d0",
   "metadata": {},
   "source": [
    "<img align=\"left\" width=15% src=\"pdrs4all_logo.png\">\n",
    "\n",
    "### The PDRs4All: Radiative feeback from massive stars\n",
    "\n",
    "PDRs4All is a program of imaging and spectroscopy in the Orion Bar to understand the impact of massive stars. \n",
    "Massive stars disrupt their natal molecular cloud material by dissociating molecules, ionizing atoms and molecules, and heating the gas and dust. These processes drive the evolution of interstellar matter in our Galaxy and throughout the Universe from the era of vig- orous star formation at redshifts of 1-3, to the present day. Much of this interaction occurs in Photo-Dissociation Regions where far-ultraviolet photons of these stars create a largely neutral, but warm region of gas and dust.\n",
    "\n",
    "PDRs4All has 12 NIRCam imaging filters in the same field of view to observe different Polycyclic Aromatic Hydrocarbons on the Orion Bar in the field of view on the [figure below](#fov). More detailled of the PDRs4All are available in the [Berné, Habart, Peeters et al. 2022](https://iopscience.iop.org/article/10.1088/1538-3873/ac604c) and on the [website](https://pdrs4all.org)."
   ]
  },
  {
   "cell_type": "markdown",
   "id": "aedb127b",
   "metadata": {},
   "source": [
    "<a id='fov'></a>\n",
    "<img width=30% src=\"spitzer_fov.jpeg\">"
   ]
  },
  {
   "cell_type": "markdown",
   "id": "d305e8a6",
   "metadata": {},
   "source": [
    "In this notebook, we will demonstrate how to reduce NIRCam imaging observations with the Data Reduction Pipeline from the STScI. There is 3 ways to use the pipeline, in this notebook we will only see one. To have more information on the others way see [documentation](#doc) and former [Webbinars](https://www.stsci.edu/jwst/science-execution/jwebbinars)."
   ]
  },
  {
   "cell_type": "markdown",
   "id": "3bd597dd",
   "metadata": {},
   "source": [
    "### Simulated Data"
   ]
  },
  {
   "cell_type": "markdown",
   "id": "65709162",
   "metadata": {},
   "source": [
    "We have simulated PDRs4All observation using [MIRAGE (Multi-Instrument RAmp GEnerator)](https://mirage-data-simulator.readthedocs.io/en/latest/). The simulator use two images as background for the filter F140M, the Hubble Space Telescope obtained by [Robberto et al. 2020](https://iopscience.iop.org/article/10.3847/1538-4357/ab911e) at 1.4 μm with the Wide Field Camera 3 (WFC3) and for the filter F335M the Spitzer-IRAC obtained by [Megeath et al. 2015](https://iopscience.iop.org/article/10.3847/0004-6256/151/1/5) at 3.6 μm.\n",
    "\n",
    "The exemple for NIRCam imaging simulation is available in the precedent notebook.\n",
    "\n",
    "For more information on the simulation see [Canin et al. 2021](https://arxiv.org/abs/2112.03106)."
   ]
  },
  {
   "cell_type": "markdown",
   "id": "6b5f6176",
   "metadata": {},
   "source": [
    "<a id='doc'></a>\n",
    "## Ressources and Documentation"
   ]
  },
  {
   "cell_type": "markdown",
   "id": "efb5575b",
   "metadata": {},
   "source": [
    "There are several different places to find information on installing and running the pipeline. This notebook will provide examples of running the pipeline on a handful of images, but will not demonstrate all options and features. Please see the following links for more in-depth instructions and documentation.\n",
    "\n",
    "* [High-level description of all pipeline stages and steps](https://jwst-pipeline.readthedocs.io/en/latest/jwst/pipeline/main.html) from the `jwst` software documentation pages.\n",
    "\n",
    "* JWST Documentation (JDox) for each pipeline stage, including a short summary of what each step does:\n",
    "\n",
    "  * [JDox page for the Stage 1 pipeline](https://jwst-docs.stsci.edu/jwst-science-calibration-pipeline-overview/stages-of-jwst-data-processing/calwebb_detector1) \n",
    "\n",
    "  * [JDox page for the Stage 2 pipeline](https://jwst-docs.stsci.edu/jwst-science-calibration-pipeline-overview/stages-of-jwst-data-processing/calwebb_image2)\n",
    "  \n",
    "  * [JDox page for the Stage 3 pipeline](https://jwst-docs.stsci.edu/jwst-science-calibration-pipeline-overview/stages-of-jwst-data-processing/calwebb_image3)\n",
    "\n",
    "* [`jwst` package documentation](https://jwst-pipeline.readthedocs.io/en/latest/jwst/introduction.html) including how to run the pipeline, input/output files, etc.\n",
    "\n",
    "* [`jwst` package GitHub repository](https://github.com/spacetelescope/jwst/blob/master/README.md), including installation instructions\n",
    "\n",
    "* [Help Desk](https://stsci.service-now.com/jwst?id=sc_cat_item&sys_id=27a8af2fdbf2220033b55dd5ce9619cd&sysparm_category=e15706fc0a0a0aa7007fc21e1ab70c2f): If you have any questions or problems regarding the pipeline, submit a ticket to the Help Desk"
   ]
  },
  {
   "cell_type": "markdown",
   "id": "5c10840e",
   "metadata": {},
   "source": [
    "### Installation"
   ]
  },
  {
   "cell_type": "markdown",
   "id": "16ab0685",
   "metadata": {},
   "source": [
    "<div class=\"alert alert-block alert-info\">\n",
    "    Before running this notebook, you will have to first install the <code>jwst</code> package.\n",
    "    \n",
    "**NOTE:** The `jwst` package requries Python 3.8+ <br><br>\n",
    "    \n",
    "The best way to install the pipeline is via `pip`. The steps below is the way to create a new conda environment, activate it, and then install the latest released version of the pipeline. The name of your environment has impact. In the lines below, replace `<env_name>` with your chosen environment name.\n",
    "\n",
    ">`conda create -n <env_name> python`<br>\n",
    ">`conda activate <env_name>`<br>\n",
    ">`pip install jwst`\n",
    "\n",
    "For more detailed instructions on the various ways to install the package, including installing more recent development versions of the pipeline, see the [installation instructions](https://github.com/spacetelescope/jwst/blob/master/README.md) on GitHub.\n",
    "    \n",
    "</div>"
   ]
  },
  {
   "cell_type": "markdown",
   "id": "0a7b703a",
   "metadata": {},
   "source": [
    "### Reference files"
   ]
  },
  {
   "cell_type": "markdown",
   "id": "3e081915",
   "metadata": {},
   "source": [
    "[Calibration reference files](https://jwst-docs.stsci.edu/data-processing-and-calibration-files/calibration-reference-files) are a collection of FITS and ASDF files that are used to remove instrumental signatures and calibrate JWST data. For example, the dark current reference file contains a multiaccum ramp of dark current signal to be subtracted from the data during the dark current subtraction step. \n",
    "\n",
    "When running a pipeline or pipeline step, the pipeline will automatically look for any required reference files in a pre-defined local directory. If the required reference files are not present, they will automatically be downloaded from the Calibration Reference Data System (CRDS) at STScI.\n",
    "\n",
    "<div class=\"alert alert-block alert-info\">\n",
    "    \n",
    "You will have to specify a local directory in which to store reference files, along with the server to use to download the reference files from CRDS. To accomplish this, there are two environment variables that should be set prior to calling the pipeline. These are the `CRDS_PATH` and `CRDS_SERVER_URL` variables. In the example below, reference files will be downloaded to the \"crds_cache\" directory under the home directory.\n",
    "\n",
    ">`$ export CRDS_PATH=$HOME/crds_cache`<br>\n",
    ">`$ export CRDS_SERVER_URL=https://jwst-crds-pub.stsci.edu`<br>\n",
    "OR:<br>\n",
    "`os.environ[\"CRDS_PATH\"] = \"/user/myself/crds_cache\"`<br>\n",
    "`os.environ[\"CRDS_SERVER_URL\"] = \"https://jwst-crds-pub.stsci.edu\"`<br>\n",
    "\n",
    "The first time you run the pipeline, the CRDS server should download all of the context and reference files that are needed. \n",
    "</div>"
   ]
  },
  {
   "cell_type": "markdown",
   "id": "a7f948ca",
   "metadata": {},
   "source": [
    "<div class=\"alert alert-block alert-warning\">\n",
    "\n",
    "If you have already used the reference files, you may have seen the URL:`https://jwst-crds.stsci.edu`.\n",
    "\n",
    "These reference files correspond to the dev version. If you use the latest stable version, use `https://jwst-crds-pub.stsci.edu`.\n",
    "\n",
    "More informations on the [documentation](https://jwst-pipeline.readthedocs.io/en/latest/jwst/introduction.html#crds).\n",
    "    \n",
    "</div>"
   ]
  },
  {
   "cell_type": "code",
   "execution_count": null,
   "id": "4513b551",
   "metadata": {},
   "outputs": [],
   "source": [
    "import os\n",
    "\n",
    "# Make sure to replace with the path to your CRDS cache and mirage data directories\n",
    "os.environ[\"CRDS_SERVER_URL\"] = \"https://jwst-crds-pub.stsci.edu\"\n",
    "os.environ[\"CRDS_PATH\"] = \"/Users/amelie/crds_cache/\"\n",
    "os.environ[\"CRDS_CONTEXT\"] = \"jwst_0862.pmap\"\n",
    "\n",
    "# Path mappings\n",
    "#os.system(\"cd /home/jovyan/PDRs4All/Webbinar/output2/f335m/stage0 && find /home/shared/mirage-data/PDRs4All/f335m/stage0/ -type f -exec ln -s {} \\;\")\n",
    "#os.system(\"cd /home/jovyan/PDRs4All/Webbinar/output2/f140m/stage0 && find /home/shared/mirage-data/PDRs4All/f140m/stage0/ -type f -exec ln -s {} \\;\")\n",
    "\n"
   ]
  },
  {
   "cell_type": "markdown",
   "id": "64c0827f",
   "metadata": {},
   "source": [
    "## Import"
   ]
  },
  {
   "cell_type": "code",
   "execution_count": null,
   "id": "eccf725d",
   "metadata": {},
   "outputs": [],
   "source": [
    "from jwst.pipeline import Detector1Pipeline, Image2Pipeline, Image3Pipeline\n",
    "import jwst.associations\n",
    "from jwst.associations.lib.rules_level3_base import DMS_Level3_Base\n",
    "\n",
    "from glob import glob\n",
    "import astropy.io.fits as fits"
   ]
  },
  {
   "cell_type": "markdown",
   "id": "cbfc32e1",
   "metadata": {},
   "source": [
    "Set up matplotlib for plotting"
   ]
  },
  {
   "cell_type": "code",
   "execution_count": null,
   "id": "0f4d9755",
   "metadata": {},
   "outputs": [],
   "source": [
    "import matplotlib.pyplot as plt\n",
    "from matplotlib import rcParams\n",
    "\n",
    "# Use this version for non-interactive plots (easier scrolling of the notebook)\n",
    "#%matplotlib inline\n",
    "\n",
    "# Use this version if you want interactive plots\n",
    "#%matplotlib notebook\n",
    "%matplotlib inline\n",
    "\n",
    "# These gymnastics are needed to make the sizes of the figures\n",
    "# be the same in both the inline and notebook versions\n",
    "#%config InlineBackend.print_figure_kwargs = {'bbox_inches': None}\n",
    "\n",
    "# You may want to change the following configurations to customize \n",
    "# figure sizes and resolutions\n",
    "rcParams['figure.figsize'] = [11,8]\n",
    "rcParams['figure.dpi'] = 80\n",
    "rcParams['savefig.dpi'] = 80"
   ]
  },
  {
   "cell_type": "markdown",
   "id": "433f4d90",
   "metadata": {},
   "source": [
    "Check which version of mirage you are running"
   ]
  },
  {
   "cell_type": "code",
   "execution_count": null,
   "id": "f984dde6",
   "metadata": {},
   "outputs": [],
   "source": [
    "import jwst\n",
    "print(jwst.__version__)"
   ]
  },
  {
   "cell_type": "markdown",
   "id": "e834358d",
   "metadata": {},
   "source": [
    "Function to show the different images"
   ]
  },
  {
   "cell_type": "code",
   "execution_count": null,
   "id": "f2c03672",
   "metadata": {},
   "outputs": [],
   "source": [
    "def show(array,title,unit,min=0,max=1000):\n",
    "    plt.figure(figsize=(10,10))\n",
    "    plt.imshow(array,clim=(min,max),origin='lower')\n",
    "    plt.title(title)\n",
    "    plt.colorbar().set_label(unit)"
   ]
  },
  {
   "cell_type": "markdown",
   "id": "8bec264e",
   "metadata": {},
   "source": [
    "## Pipeline for Short Wavelength"
   ]
  },
  {
   "cell_type": "markdown",
   "id": "d8413cd8",
   "metadata": {},
   "source": [
    "The JWST Data Reduction Pipeline is a Python package developed by the STScI. This software allows us to produce calibrated and reduced data from raw data taken by the JWST. From the raw data to the final data, the pipeline is composed of three stages ([figure](#pipeline)). In the following sections, we describe the three stages and code for processing the uncalibrated data to obtain Stage 3 data, applied to the raw images created in the previous notebook."
   ]
  },
  {
   "cell_type": "markdown",
   "id": "be72b8c8",
   "metadata": {},
   "source": [
    "<a id='pipeline'></a>\n",
    "<img src=\"pipeline-overview.png\">"
   ]
  },
  {
   "cell_type": "markdown",
   "id": "7c5f2e0b",
   "metadata": {},
   "source": [
    "In this section, we will run the pipeline on the observations with the filter F140M, corresponding to short wavelengths. For short wavelengths, the used detectors are A1, A2, A3, A4, B1, B2, B3 and B4 but in our simulated data, we only have the observations for the module B."
   ]
  },
  {
   "cell_type": "markdown",
   "id": "c39988f5",
   "metadata": {},
   "source": [
    "### calwebb_detector1: Stage 1 Detector Processing"
   ]
  },
  {
   "cell_type": "markdown",
   "id": "e96ab360",
   "metadata": {},
   "source": [
    "**Description**\n",
    "\n",
    "This stage is the first one for all of the instruments. It corrects a part of instrument signatures in particu- lar by removing the readout pattern (the stripes). It is called`CALWEBB DETECTOR1` or `Detector1Pipeline` in the Python pipeline. The output of MIRAGE can be used here if during the simulation, datatype is set to raw. This stage only takes one file at a time and returns uncalibrated slope images in units of ADU/sec.\n",
    "\n",
    "**Inputs**\n",
    "\n",
    "* A raw exposure (`*_uncal.fits`) containing the 4-dimensional raw data from all detector readouts: (nintegrations x ngroups x ncols x nrows)\n",
    "\n",
    "\n",
    "**Outputs**\n",
    "\n",
    "* A 3D countrate image (`*_rateints.fits`) containing the results of each integration\n",
    "* A 2D countrate image (`*_rate.fits`) corresponding of the average over the exposure's integrations\n",
    "\n",
    "If there is only one integrate, `*_rateints.fits` and `*_rate.fits` are the same.\n"
   ]
  },
  {
   "cell_type": "code",
   "execution_count": null,
   "id": "858b5221",
   "metadata": {},
   "outputs": [],
   "source": [
    "# Path containing the raw data\n",
    "path_stage0 = '../data/f140m/stage0/'"
   ]
  },
  {
   "cell_type": "markdown",
   "id": "f48e04a7",
   "metadata": {},
   "source": [
    "Function to run the stage 1 with the options we want"
   ]
  },
  {
   "cell_type": "markdown",
   "id": "4ee64101",
   "metadata": {},
   "source": [
    "<div class=\"alert alert-block alert-info\">\n",
    "    \n",
    "In each stage, the option `save_results` is set to `True` to save the results on the laptop at the location `output_dir`.\n",
    "    \n",
    "</div>"
   ]
  },
  {
   "cell_type": "code",
   "execution_count": null,
   "id": "b55e8fbe",
   "metadata": {},
   "outputs": [],
   "source": [
    "# Function to run the stage 1 of the pipeline\n",
    "def rundet1(filename, output_dir):\n",
    "    # Instantiate the pipeline\n",
    "    det1 = Detector1Pipeline()\n",
    "    # Specify where the output should go\n",
    "    det1.output_dir = output_dir\n",
    "    # Save the final resulting _rate.fits files\n",
    "    det1.save_results = True\n",
    "    # Prevents saturation\n",
    "    det1.ramp_fit.suppress_one_group = False\n",
    "    # Run the pipeline on an input list of files\n",
    "    det1(filename)"
   ]
  },
  {
   "cell_type": "code",
   "execution_count": null,
   "id": "51f104fd",
   "metadata": {},
   "outputs": [],
   "source": [
    "# Raw data\n",
    "uncal_files = glob(os.path.join(path_stage0, '*uncal.fits'))"
   ]
  },
  {
   "cell_type": "code",
   "execution_count": null,
   "id": "0dc218a2",
   "metadata": {},
   "outputs": [],
   "source": [
    "# Create a folder to store stage 1 products\n",
    "path_stage1 = path_stage0.replace('stage0', 'stage1')\n",
    "if not os.path.exists(path_stage1):\n",
    "    os.makedirs(path_stage1)"
   ]
  },
  {
   "cell_type": "code",
   "execution_count": null,
   "id": "e829bff1",
   "metadata": {},
   "outputs": [],
   "source": [
    "# Run the stage 1 on all the raw data\n",
    "for f in uncal_files:\n",
    "    rundet1(f,path_stage1)"
   ]
  },
  {
   "cell_type": "markdown",
   "id": "daf689b1",
   "metadata": {},
   "source": [
    "Plot the result of the rate file for the detector B1 and one dither"
   ]
  },
  {
   "cell_type": "code",
   "execution_count": null,
   "id": "d463ff8a",
   "metadata": {},
   "outputs": [],
   "source": [
    "rate_data = fits.getdata(os.path.join(path_stage1, 'jw01288001001_01101_00021_nrcb1_rate.fits'))"
   ]
  },
  {
   "cell_type": "code",
   "execution_count": null,
   "id": "9c534e6c",
   "metadata": {},
   "outputs": [],
   "source": [
    "show(rate_data,'Rate data', 'ADU/sec', max=40)"
   ]
  },
  {
   "cell_type": "markdown",
   "id": "9286c52a",
   "metadata": {},
   "source": [
    "### calwebb_image2: Stage 2 Imaging Processing"
   ]
  },
  {
   "cell_type": "markdown",
   "id": "c59c0724",
   "metadata": {},
   "source": [
    "**Description**\n",
    "\n",
    "This stage corrects other instrumental signatures and calibrates the exposures. This step is performed using the `CALWEBB IMAGE` or `Image2Pipeline` in the Pipeline. This stage returns calibrated but unrectified slope images in units of MJy/sr.\n",
    "\n",
    "**Inputs**\n",
    "\n",
    "* A 2D countrate image (`*_rate.fits`) corresponding of the average over the exposure's integrations\n",
    "\n",
    "\n",
    "**Outputs**\n",
    "\n",
    "* A 2D calibrated, but unrectified, exposure (`*_cal.fits`)\n",
    "* A 2D resampled, or rectified, image (`*_i2d.fits`)\n",
    "\n",
    "The `*_i2d.fits` should not be used for science case because it did not pass through stage 3. At this stage, it can be used only for quick-look."
   ]
  },
  {
   "cell_type": "markdown",
   "id": "55a3bf89",
   "metadata": {},
   "source": [
    "Function to run the stage 2 with the options we want"
   ]
  },
  {
   "cell_type": "code",
   "execution_count": null,
   "id": "f6e85398",
   "metadata": {},
   "outputs": [],
   "source": [
    "# Function to run the stage 1 of the pipeline\n",
    "def runimg2(filename, output_dir):\n",
    "    # Instantiate the pipeline\n",
    "    img2 = Image2Pipeline()\n",
    "    # Specify where the output should go\n",
    "    img2.output_dir = output_dir\n",
    "    # Save the final resulting _rate.fits files\n",
    "    img2.save_results = True\n",
    "    # Run the pipeline on an input list of files\n",
    "    img2(filename)"
   ]
  },
  {
   "cell_type": "code",
   "execution_count": null,
   "id": "10289c49",
   "metadata": {},
   "outputs": [],
   "source": [
    "# Rate data\n",
    "rate_files = glob(os.path.join(path_stage1, '*rate.fits'))\n",
    "\n",
    "# Create a folder to store stage 2 products\n",
    "path_stage2 = path_stage0.replace('stage0', 'stage2')\n",
    "\n",
    "if not os.path.exists(path_stage2):\n",
    "    os.makedirs(path_stage2)"
   ]
  },
  {
   "cell_type": "code",
   "execution_count": null,
   "id": "5efa8f3a",
   "metadata": {},
   "outputs": [],
   "source": [
    "# Run the stage 2 on all the rate data\n",
    "for f in rate_files:\n",
    "    runimg2(f,path_stage2)"
   ]
  },
  {
   "cell_type": "markdown",
   "id": "20fd01b5",
   "metadata": {},
   "source": [
    "Plot the result of the calibrated file for the detector B1 and one dither"
   ]
  },
  {
   "cell_type": "code",
   "execution_count": null,
   "id": "325c381d",
   "metadata": {},
   "outputs": [],
   "source": [
    "cal_data = fits.getdata(os.path.join(path_stage2, 'jw01288001001_01101_00021_nrcb1_cal.fits'))"
   ]
  },
  {
   "cell_type": "code",
   "execution_count": null,
   "id": "ca17325e",
   "metadata": {},
   "outputs": [],
   "source": [
    "show(cal_data, 'Calibrated data', 'MJy/sr', max = 200)"
   ]
  },
  {
   "cell_type": "markdown",
   "id": "c6c8557c",
   "metadata": {},
   "source": [
    "### calwebb_image3: Stage 3 Imaging Processing"
   ]
  },
  {
   "cell_type": "markdown",
   "id": "a13ecc59",
   "metadata": {},
   "source": [
    "**Description**\n",
    "\n",
    "This stage combines multiple exposures from dithers or mosaics and rectifies the exposures to produce one unique mosaic, the final product. In this stage, we use the imaging mode called `CALWEBB IMAGE3` or `Image3Pipeline` in the Pipeline. To combine multiple exposures, an association (ASN) file is created which contains the images to be combined. Any combination of detectors and dithers is possible. This returns the final mosaic image, rectified, in units of MJy/sr.\n",
    "\n",
    "**Inputs**\n",
    "\n",
    "* A 2D calibrated, but unrectified, exposures (`*_cal.fits`) combined in an ASN file\n",
    "\n",
    "\n",
    "**Outputs**\n",
    "\n",
    "* A 2D resampled and combined image (`*_i2d.fits`) containing the combined and rectified association of exposures\n",
    "* A 2D cosmic-ray flagged exposure (`*_crf.fits`) if `outlier_step == True`\n",
    "* A source catalog (`*_cat.ecsv`) saved in ASCII\n",
    "* A 2D segmentation map (`*_segm.fits`)\n"
   ]
  },
  {
   "cell_type": "markdown",
   "id": "f08a33bc",
   "metadata": {},
   "source": [
    "<div class=\"alert alert-block alert-info\">\n",
    "    \n",
    "The stage 3 take in input an association (ASN) file to combined multiple exposures. The paths of the exposures are writen in a `JSON` file. \n",
    "\n",
    "We use the function `jwst.associations.asn_from_list.asn_from_list` to define the basic association of files with the different files, the rule (stage 2 or 3) and the final name of the product return by the stage 3.\n",
    "\n",
    "</div>"
   ]
  },
  {
   "cell_type": "markdown",
   "id": "8dc118eb",
   "metadata": {},
   "source": [
    "The function `create_asn` creates ASN files to combined the dithers of each detector in input and one ASN file for all the dithers and detectors in a final mosaic."
   ]
  },
  {
   "cell_type": "code",
   "execution_count": null,
   "id": "42dc722a",
   "metadata": {},
   "outputs": [],
   "source": [
    "def create_asn(folder,detectors,filter_name):\n",
    "    asnlist = []\n",
    "    for detec in detectors:\n",
    "        asnfile = 'l3asn_{}.json'.format(detec)\n",
    "        cal_files = glob(os.path.join(folder, '*{}_cal.fits'.format(detec)))\n",
    "        if cal_files != []:\n",
    "            print('Step 3: Found ' + str(len(cal_files)) + ' input files to process for detector {}'.format(detec))\n",
    "            # Name of the final product for the detector\n",
    "            prodname = 'ima_{}_{}'.format(filter_name,detec)\n",
    "            asnlist.append(asnfile)\n",
    "            # Write the ASN file\n",
    "            writeasn(cal_files,asnfile,prodname)\n",
    "\n",
    "    # A common ASN file for all dithers and detectors\n",
    "    asnfile = 'l3asn.json'\n",
    "    cal_files = glob(os.path.join(folder, '*cal.fits'))\n",
    "    prodname = 'ima_{}'.format(filter_name)\n",
    "    writeasn(cal_files,asnfile,prodname)\n",
    "    asnlist.append(asnfile)\n",
    "\n",
    "    return(asnlist)"
   ]
  },
  {
   "cell_type": "code",
   "execution_count": null,
   "id": "ebc4667e",
   "metadata": {},
   "outputs": [],
   "source": [
    "# Useful function to write out a Lvl3 association file from an input list\n",
    "def writeasn(files,asnfile,prodname):\n",
    "    # Define the basic association of science files\n",
    "    asn = jwst.associations.asn_from_list.asn_from_list(files,rule=DMS_Level3_Base,product_name=prodname)\n",
    "    # Write the association to a json file\n",
    "    _, serialized = asn.dump()\n",
    "    with open(asnfile, 'w') as outfile:\n",
    "        outfile.write(serialized)"
   ]
  },
  {
   "cell_type": "markdown",
   "id": "8550260d",
   "metadata": {},
   "source": [
    "Function to run the stage 3 with the options we want\n",
    "<div class=\"alert alert-block alert-info\">\n",
    "    \n",
    "Here, we turn off the `tweakreg` option. With the `tweakreg` option turned off, the first two images are aligned, then the third one is aligned with the previous combination, etc. This allows for a better alignment between combined images. Alternatively, if the `tweakreg` option is on, during the alignment, all images are aligned with the first one, but since there is very little overlap between the first and the last dither, alignment is poor.\n",
    "\n",
    "</div>"
   ]
  },
  {
   "cell_type": "code",
   "execution_count": null,
   "id": "7462dbc0",
   "metadata": {},
   "outputs": [],
   "source": [
    "def runimg3(filename, output_dir):\n",
    "    # Instantiate the pipeline\n",
    "    img3 = Image3Pipeline()\n",
    "    # Specify where the output should go\n",
    "    img3.output_dir = output_dir\n",
    "    # Save the final resulting _rate.fits files\n",
    "    img3.save_results = True\n",
    "    # Skip the tweakreg\n",
    "    img3.tweakreg.skip = True\n",
    "    # Run the pipeline on an input list of files\n",
    "    img3(filename)"
   ]
  },
  {
   "cell_type": "code",
   "execution_count": null,
   "id": "a4b7c60a",
   "metadata": {},
   "outputs": [],
   "source": [
    "# Create the ASN files\n",
    "asnlist = create_asn(path_stage2, ['b1','b2','b3','b4'], 'f140m')\n",
    "print(asnlist)"
   ]
  },
  {
   "cell_type": "code",
   "execution_count": null,
   "id": "d713795e",
   "metadata": {},
   "outputs": [],
   "source": [
    "# Create a folder to store stage 3 products\n",
    "path_stage3 = path_stage0.replace('stage0', 'stage3')\n",
    "if not os.path.exists(path_stage3):\n",
    "    os.makedirs(path_stage3)"
   ]
  },
  {
   "cell_type": "code",
   "execution_count": null,
   "id": "c690948e",
   "metadata": {},
   "outputs": [],
   "source": [
    "# Run the stage 3 for detector B1\n",
    "runimg3('l3asn_b1.json',path_stage3)"
   ]
  },
  {
   "cell_type": "markdown",
   "id": "012f7ae0",
   "metadata": {},
   "source": [
    "Plot the final product for the detector B1"
   ]
  },
  {
   "cell_type": "code",
   "execution_count": null,
   "id": "bc006adb",
   "metadata": {},
   "outputs": [],
   "source": [
    "b1_data = fits.getdata(os.path.join(path_stage3, 'ima_f140m_b1_i2d.fits'))\n",
    "show(b1_data, 'Mosaic on detector b1', 'MJy/sr', max = 300)"
   ]
  },
  {
   "cell_type": "code",
   "execution_count": null,
   "id": "7de49c2e",
   "metadata": {},
   "outputs": [],
   "source": [
    "# Run the stage 3 on all the data\n",
    "runimg3('l3asn.json',path_stage3)"
   ]
  },
  {
   "cell_type": "markdown",
   "id": "6e7892c4",
   "metadata": {},
   "source": [
    "Plot the final product"
   ]
  },
  {
   "cell_type": "code",
   "execution_count": null,
   "id": "567a92b0",
   "metadata": {},
   "outputs": [],
   "source": [
    "final_data = fits.getdata(os.path.join(path_stage3, 'ima_f140m_i2d.fits'))\n",
    "show(final_data, 'Mosaic on detector B', 'MJy/sr', max = 300)"
   ]
  },
  {
   "cell_type": "markdown",
   "id": "69917543",
   "metadata": {},
   "source": [
    "## Pipeline for Long wavelength"
   ]
  },
  {
   "cell_type": "markdown",
   "id": "ec26b204",
   "metadata": {},
   "source": [
    "In this section, we will run the pipeline on the observations with the filter F335M, corresponding to long wavelengths. For long wavelengths, the used detectors are A5 and B5 but in our simulated data, we only have the observations for the module B."
   ]
  },
  {
   "cell_type": "markdown",
   "id": "f5cbaad2",
   "metadata": {},
   "source": [
    "### calwebb_detector1: Stage 1 Detector Processing"
   ]
  },
  {
   "cell_type": "markdown",
   "id": "b80be046",
   "metadata": {},
   "source": [
    "**Description**\n",
    "\n",
    "This stage is the first one for all of the instruments. It corrects a part of instrument signatures in particu- lar by removing the readout pattern (the stripes). It is called`CALWEBB DETECTOR1` or `Detector1Pipeline` in the Python pipeline. The output of MIRAGE can be used here if during the simulation, datatype is set to raw. This stage only takes one file at a time and returns uncalibrated slope images in units of ADU/sec.\n",
    "\n",
    "**Inputs**\n",
    "\n",
    "* A raw exposure (`*_uncal.fits`) containing the 4-dimensional raw data from all detector readouts: (nintegrations x ngroups x ncols x nrows)\n",
    "\n",
    "\n",
    "**Outputs**\n",
    "\n",
    "* A 3D countrate image (`*_rateints.fits`) containing the results of each integration\n",
    "* A 2D countrate image (`*_rate.fits`) corresponding of the average over the exposure's integrations\n",
    "\n",
    "If there is only one integrate, `*_rateints.fits` and `*_rate.fits` are the same.\n",
    "\n"
   ]
  },
  {
   "cell_type": "code",
   "execution_count": null,
   "id": "a5fc8f2d",
   "metadata": {},
   "outputs": [],
   "source": [
    "# Path containing the raw data\n",
    "path_stage0 = '../data/f335m/stage0/'\n",
    "# Create a folder to store stage 1 products\n",
    "path_stage1 = path_stage0.replace('stage0', 'stage1')\n",
    "if not os.path.exists(path_stage1):\n",
    "    os.makedirs(path_stage1)"
   ]
  },
  {
   "cell_type": "code",
   "execution_count": null,
   "id": "e5700e28",
   "metadata": {},
   "outputs": [],
   "source": [
    "# Raw data\n",
    "uncal_files = glob(os.path.join(path_stage0, '*uncal.fits'))"
   ]
  },
  {
   "cell_type": "code",
   "execution_count": null,
   "id": "bfcf3fce",
   "metadata": {},
   "outputs": [],
   "source": [
    "# Run the stage 1 on all the raw data\n",
    "for f in uncal_files:\n",
    "    rundet1(f,path_stage1)"
   ]
  },
  {
   "cell_type": "markdown",
   "id": "f1594426",
   "metadata": {},
   "source": [
    "Plot the result of the rate file for the detector B5 and one dither"
   ]
  },
  {
   "cell_type": "code",
   "execution_count": null,
   "id": "b94587fd",
   "metadata": {},
   "outputs": [],
   "source": [
    "rate_data = fits.getdata(os.path.join(path_stage1, 'jw01288001001_01101_00005_nrcb5_rate.fits'))"
   ]
  },
  {
   "cell_type": "code",
   "execution_count": null,
   "id": "6d8d53d4",
   "metadata": {},
   "outputs": [],
   "source": [
    "show(rate_data,'Rate data', 'ADU/sec', max = 2500)"
   ]
  },
  {
   "cell_type": "markdown",
   "id": "a439bfde",
   "metadata": {},
   "source": [
    "### calwebb_image2: Stage 2 Imaging Processing"
   ]
  },
  {
   "cell_type": "markdown",
   "id": "ae0b4b28",
   "metadata": {},
   "source": [
    "**Description**\n",
    "\n",
    "This stage corrects other instrumental signatures and calibrates the exposures. This step is performed using the `CALWEBB IMAGE` or `Image2Pipeline` in the Pipeline. This stage returns calibrated but unrectified slope images in units of MJy/sr.\n",
    "\n",
    "**Inputs**\n",
    "\n",
    "* A 2D countrate image (`*_rate.fits`) corresponding of the average over the exposure's integrations\n",
    "\n",
    "\n",
    "**Outputs**\n",
    "\n",
    "* A 2D calibrated, but unrectified, exposure (`*_cal.fits`)\n",
    "* A 2D resampled, or rectified, image (`*_i2d.fits`)\n",
    "\n",
    "The `*_i2d.fits` should not be used for science case because it did not pass through stage 3. At this stage, it can be used only for quick-look."
   ]
  },
  {
   "cell_type": "code",
   "execution_count": null,
   "id": "c4e6c121",
   "metadata": {},
   "outputs": [],
   "source": [
    "# Rate data\n",
    "rate_files = glob(os.path.join(path_stage1, '*rate.fits'))\n",
    "\n",
    "# Create a folder to store stage 2 products\n",
    "path_stage2 = path_stage0.replace('stage0', 'stage2')\n",
    "if not os.path.exists(path_stage2):\n",
    "    os.makedirs(path_stage2)"
   ]
  },
  {
   "cell_type": "code",
   "execution_count": null,
   "id": "9f2e15ec",
   "metadata": {},
   "outputs": [],
   "source": [
    "# Run the stage 2 on all the rate data\n",
    "for f in rate_files:\n",
    "    runimg2(f,path_stage2)"
   ]
  },
  {
   "cell_type": "markdown",
   "id": "fe149a31",
   "metadata": {},
   "source": [
    "Plot the result of the calibrated file for the detector B5 and one dither"
   ]
  },
  {
   "cell_type": "code",
   "execution_count": null,
   "id": "51c135bc",
   "metadata": {},
   "outputs": [],
   "source": [
    "cal_data = fits.getdata(os.path.join(path_stage2, 'jw01288001001_01101_00005_nrcb5_cal.fits'))"
   ]
  },
  {
   "cell_type": "code",
   "execution_count": null,
   "id": "a84e4cf9",
   "metadata": {},
   "outputs": [],
   "source": [
    "show(cal_data, 'Calibrated data', 'MJy/sr', max = 2500)"
   ]
  },
  {
   "cell_type": "markdown",
   "id": "262f8ba4",
   "metadata": {},
   "source": [
    "### calwebb_image3: Stage 3 Imaging Processing"
   ]
  },
  {
   "cell_type": "markdown",
   "id": "2e18782f",
   "metadata": {},
   "source": [
    "**Description**\n",
    "\n",
    "This stage combines multiple exposures from dithers or mosaics and rectifies the exposures to produce one unique mosaic, the final product. In this stage, we use the imaging mode called `CALWEBB IMAGE3` or `Image3Pipeline` in the Pipeline. To combine multiple exposures, an association (ASN) file is created which contains the images to be combined. Any combination of detectors and dithers is possible. This returns the final mosaic image, rectified, in units of MJy/sr.\n",
    "\n",
    "**Inputs**\n",
    "\n",
    "* A 2D calibrated, but unrectified, exposures (`*_cal.fits`) combined in an ASN file\n",
    "\n",
    "\n",
    "**Outputs**\n",
    "\n",
    "* A 2D resampled and combined image (`*_i2d.fits`) containing the combined and rectified association of exposures\n",
    "* A 2D cosmic-ray flagged exposure (`*_crf.fits`) if `outlier_step == True`\n",
    "* A source catalog (`*_cat.ecsv`) saved in ASCII\n",
    "* A 2D segmentation map (`*_segm.fits`)"
   ]
  },
  {
   "cell_type": "code",
   "execution_count": null,
   "id": "dd4bcbea",
   "metadata": {},
   "outputs": [],
   "source": [
    "# Create the ASN files\n",
    "asnlist = create_asn(path_stage2, ['b5'], 'f335m')"
   ]
  },
  {
   "cell_type": "code",
   "execution_count": null,
   "id": "4f1f7cf2",
   "metadata": {},
   "outputs": [],
   "source": [
    "# Create a folder to store stage 3 products\n",
    "path_stage3 = path_stage0.replace('stage0', 'stage3')\n",
    "if not os.path.exists(path_stage3):\n",
    "    os.makedirs(path_stage3)"
   ]
  },
  {
   "cell_type": "code",
   "execution_count": null,
   "id": "d580873e",
   "metadata": {},
   "outputs": [],
   "source": [
    "# Run the stage 3 for detector B5\n",
    "runimg3('l3asn_b5.json',path_stage3)"
   ]
  },
  {
   "cell_type": "markdown",
   "id": "5e77e922",
   "metadata": {},
   "source": [
    "Plot the final product for the detector B5"
   ]
  },
  {
   "cell_type": "code",
   "execution_count": null,
   "id": "8c9669d8",
   "metadata": {},
   "outputs": [],
   "source": [
    "b5_data = fits.getdata(os.path.join(path_stage3, 'ima_f335m_b5_i2d.fits'))\n",
    "show(b5_data, 'Mosaic on detector b5', 'MJy/sr', max = 3000)"
   ]
  },
  {
   "cell_type": "code",
   "execution_count": null,
   "id": "c22e79be",
   "metadata": {},
   "outputs": [],
   "source": []
  }
 ],
 "metadata": {
  "kernelspec": {
   "display_name": "Python 3 (ipykernel)",
   "language": "python",
   "name": "python3"
  },
  "language_info": {
   "codemirror_mode": {
    "name": "ipython",
    "version": 3
   },
   "file_extension": ".py",
   "mimetype": "text/x-python",
   "name": "python",
   "nbconvert_exporter": "python",
   "pygments_lexer": "ipython3",
   "version": "3.9.12"
  }
 },
 "nbformat": 4,
 "nbformat_minor": 5
}
